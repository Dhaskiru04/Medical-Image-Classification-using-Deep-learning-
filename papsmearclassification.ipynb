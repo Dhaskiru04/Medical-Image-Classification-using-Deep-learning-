{
 "cells": [
  {
   "cell_type": "code",
   "execution_count": 18,
   "metadata": {},
   "outputs": [],
   "source": [
    "import cv2\n",
    "import matplotlib.pyplot as mp\n",
    "import keras\n",
    "import numpy as np\n",
    "import sklearn\n",
    "import os\n",
    "import glob\n",
    "from sklearn.utils import shuffle\n",
    "from keras.models import Sequential\n",
    "from keras.layers.core import Dense,Flatten,Lambda,Dropout\n",
    "from keras.layers import Cropping2D , BatchNormalization\n",
    "from keras.layers.convolutional import Conv2D\n",
    "from keras.layers.advanced_activations import ELU\n",
    "from keras.models import load_model\n",
    "import matplotlib.image as img\n",
    "from sklearn.model_selection import train_test_split\n",
    "\n"
   ]
  },
  {
   "cell_type": "code",
   "execution_count": 2,
   "metadata": {},
   "outputs": [
    {
     "name": "stdout",
     "output_type": "stream",
     "text": [
      "DATA\n",
      "(908,)\n"
     ]
    }
   ],
   "source": [
    "from keras.preprocessing.image import img_to_array\n",
    "from keras.utils import to_categorical\n",
    "import random\n",
    "print(\"DATA\")\n",
    "data = []\n",
    "labels = []\n",
    "d1 = (glob.glob('/home/janani/Documents/Deep learning  database/carcinoma_in_situ/*.jpg'))\n",
    "d2 = (glob.glob('/home/janani/Documents/Deep learning  database/light dysplasia/*.jpg'))\n",
    "d3 = (glob.glob('/home/janani/Documents/Deep learning  database/moderate_dysplastic/*.jpg'))\n",
    "d4 = (glob.glob('/home/janani/Documents/Deep learning  database/normal_columnar/*.jpg'))\n",
    "d5 = (glob.glob('/home/janani/Documents/Deep learning  database/normal_intermediate/*.jpg'))\n",
    "d6 = (glob.glob('/home/janani/Documents/Deep learning  database/normal superficial/*.jpg'))\n",
    "d7 = (glob.glob('/home/janani/Documents/Deep learning  database/severe_dysplastic/*.jpg'))\n",
    "#print(len(d1))\n",
    "#print(len(d2))\n",
    "#print(len(d3))\n",
    "#print(len(d4))\n",
    "#print(len(d5))\n",
    "#print(len(d6))\n",
    "#print(len(d7))\n",
    "for image in d1:\n",
    "    image = cv2.imread(image)\n",
    "    \n",
    "    data.append(image)\n",
    "    #print(data)\n",
    "for image in d2:\n",
    "    image = cv2.imread(image)\n",
    "    \n",
    "    data.append(image)\n",
    "    #print(data)    \n",
    "for image in d3:\n",
    "    image = cv2.imread(image)\n",
    "    \n",
    "    data.append(image)\n",
    "    #print(data)\n",
    "for image in d4:\n",
    "    image = cv2.imread(image)\n",
    "    \n",
    "    data.append(image)\n",
    "    #print(data)\n",
    "for image in d5:\n",
    "    image = cv2.imread(image)\n",
    "    \n",
    "    data.append(image)\n",
    "    #print(data)\n",
    "for image in d6:\n",
    "    image = cv2.imread(image)\n",
    "    data.append(image)\n",
    "    #print(data)   \n",
    "for image in d7:\n",
    "    image = cv2.imread(image)\n",
    "    data.append(image)\n",
    "    #print('data',data)    \n",
    "X_train = np.array(data)    \n",
    "print(X_train.shape)\n",
    "         "
   ]
  },
  {
   "cell_type": "code",
   "execution_count": 3,
   "metadata": {},
   "outputs": [
    {
     "data": {
      "image/png": "[encoded data removed]",
      "text/plain": [
       "<Figure size 432x288 with 1 Axes>"
      ]
     },
     "metadata": {
      "needs_background": "light"
     },
     "output_type": "display_data"
    }
   ],
   "source": [
    "y_d1 = np.array(d1)\n",
    "y_d1.fill(0)\n",
    "\n",
    "y_d2 = np.array(d2)\n",
    "y_d2.fill(1)\n",
    "y_d3 = np.array(d3)\n",
    "y_d3.fill(2)\n",
    "#print(y_d3.shape)\n",
    "\n",
    "y_d4 = np.array(d4)\n",
    "y_d4.fill(3)\n",
    "#print(y_d4.shape)\n",
    "\n",
    "y_d5 = np.array(d5)\n",
    "y_d5.fill(4)\n",
    "#print(y_d5.shape)\n",
    "\n",
    "y_d6 = np.array(d6)\n",
    "y_d6.fill(5)\n",
    "#print(y_d6.shape)\n",
    "\n",
    "y_d7 = np.array(d7)\n",
    "y_d7.fill(6)\n",
    "#print(y_d7.shape)\n",
    "\n",
    "y_train = np.concatenate((y_d1, y_d2, y_d3, y_d4, y_d5, y_d6, y_d7))\n",
    "#print(y_train.shape)\n",
    "\n",
    "mp.imshow(X_train[0])\n",
    "#print(y_train[0])\n",
    "\n",
    "shuffle(X_train, y_train)\n",
    "X_train,X_test,y_train,y_test = train_test_split(X_train,y_train,test_size = 0.1 )\n",
    "x_valid,x_test,y_valid,y_test = train_test_split(X_test,y_test, test_size=0.2)\n",
    "\n",
    "\n",
    "\n",
    "\n",
    "\n",
    "\n"
   ]
  },
  {
   "cell_type": "code",
   "execution_count": 4,
   "metadata": {},
   "outputs": [
    {
     "name": "stdout",
     "output_type": "stream",
     "text": [
      "(169, 228, 3)\n",
      "1\n",
      "(72,)\n",
      "(19,)\n",
      "0\n",
      "0\n",
      "817\n",
      "72\n",
      "19\n"
     ]
    }
   ],
   "source": [
    "print(X_train[0].shape)\n",
    "print((y_train[0]))\n",
    "print((x_valid.shape))\n",
    "print((x_test.shape))\n",
    "print((y_valid[0]))\n",
    "print((y_test[0]))\n",
    "print(len(X_train))\n",
    "print(len(x_valid))\n",
    "print(len(x_test))"
   ]
  },
  {
   "cell_type": "code",
   "execution_count": 5,
   "metadata": {},
   "outputs": [
    {
     "name": "stdout",
     "output_type": "stream",
     "text": [
      "(817,)\n",
      "(72,)\n"
     ]
    }
   ],
   "source": [
    "from sklearn.utils import shuffle\n",
    "import matplotlib.pyplot as plt\n",
    "import matplotlib.image as im\n",
    "import cv2\n",
    "\n",
    "X_train, y_train = shuffle(X_train, y_train)\n",
    "\n",
    "gray1 = []\n",
    "gray2 = []\n",
    "gray3 = []\n",
    "for i in X_train:\n",
    "    image = i\n",
    "    image = cv2.cvtColor(image,cv2.COLOR_BGR2GRAY)\n",
    "    gray1.append(image)\n",
    "X_train = np.array(gray1)\n",
    "for i in x_valid:\n",
    "    image = i\n",
    "    image = cv2.cvtColor(image,cv2.COLOR_BGR2GRAY)\n",
    "    gray2.append(image)\n",
    "x_valid = np.array(gray2)\n",
    "for i in x_test:\n",
    "    image = i\n",
    "    image = cv2.cvtColor(image,cv2.COLOR_BGR2GRAY)\n",
    "    gray3.append(image)\n",
    "x_test = np.array(gray3)            \n",
    "    \n",
    "X_train = (np.subtract((np.divide(X_train,255)),0.5))\n",
    "x_valid = (np.subtract((np.divide(x_valid,255)),0.5))\n",
    "x_test = (np.subtract((np.divide(x_test,255)),0.5))\n",
    "\n",
    "print(X_train.shape)\n",
    "print(x_valid.shape)\n"
   ]
  },
  {
   "cell_type": "code",
   "execution_count": null,
   "metadata": {},
   "outputs": [],
   "source": []
  },
  {
   "cell_type": "code",
   "execution_count": 6,
   "metadata": {},
   "outputs": [
    {
     "name": "stdout",
     "output_type": "stream",
     "text": [
      "(128, 128)\n",
      "(128, 128)\n",
      "(128, 128)\n"
     ]
    }
   ],
   "source": [
    "sz1 = []\n",
    "sz2 = []\n",
    "sz3 = []\n",
    "for j in X_train:\n",
    "    im = j\n",
    "    im = cv2.resize(im, dsize=(128, 128), interpolation=cv2.INTER_LINEAR)\n",
    "    sz1.append(im)\n",
    "X_train = np.array(sz1)    \n",
    "print(X_train[149].shape)\n",
    "for j in x_valid:\n",
    "    im = j\n",
    "    im = cv2.resize(im, dsize=(128, 128), interpolation=cv2.INTER_LINEAR)\n",
    "    sz2.append(im)\n",
    "x_valid = np.array(sz2)    \n",
    "print(x_valid[0].shape)\n",
    "for j in x_test:\n",
    "    im = j\n",
    "    im = cv2.resize(im, dsize=(128, 128), interpolation=cv2.INTER_LINEAR)\n",
    "    sz3.append(im)\n",
    "x_test = np.array(sz3)    \n",
    "print(x_test[0].shape)\n",
    "#print(len(sz1))\n"
   ]
  },
  {
   "cell_type": "code",
   "execution_count": 7,
   "metadata": {},
   "outputs": [],
   "source": [
    "### Define your architecture here.\n",
    "### Feel free to use as many code cells as needed.\n",
    "import tensorflow as tf\n",
    "keep_prob = tf.placeholder(tf.float32)\n",
    "\n",
    "\n",
    "\n",
    "\n",
    "from tensorflow.contrib.layers import flatten\n",
    "\n",
    "def LeNet(x):    \n",
    "    # Arguments used for tf.truncated_normal, randomly defines variables for the weights and biases for each layer\n",
    "    mu = 0\n",
    "    sigma = 0.1\n",
    "    weights1 = tf.Variable(tf.truncated_normal(([5,5,1,6]),0,0.1))\n",
    "    bias1 = tf.Variable(tf.zeros(6))\n",
    "    layer1 = tf.nn.conv2d(x,weights1,strides=[1,1,1,1],padding='VALID')\n",
    "    layer1 = tf.nn.bias_add(layer1,bias1)\n",
    "\n",
    "    layer1 = tf.nn.relu(layer1)\n",
    "\n",
    "    layer1 = tf.nn.max_pool(layer1,ksize=[1,2,2,1],strides =[1,2,2,1],padding='VALID')\n",
    "    \n",
    "    \n",
    "    weights2 = tf.Variable(tf.truncated_normal(([5,5,6,16]),0,0.1))\n",
    "    bias2 = tf.Variable(tf.zeros(16))\n",
    "    layer2 = tf.nn.conv2d(layer1,weights2,strides=[1,1,1,1],padding='VALID')\n",
    "    \n",
    "    layer2 = tf.nn.relu(layer2)\n",
    "    layer2 = tf.nn.max_pool(layer2,ksize=[1,2,2,1],strides=[1,2,2,1],padding = 'VALID')\n",
    "   \n",
    "    layer2 = tf.contrib.layers.flatten(layer2)\n",
    "    \n",
    "   \n",
    "    \n",
    "    weights3 = tf.Variable(tf.truncated_normal(([13456,120]),0,0.1))\n",
    "    bias3 = tf.Variable(tf.zeros(120))\n",
    "    layer3 = tf.add(tf.matmul(layer2,weights3),bias3)\n",
    "    layer3 = tf.nn.relu(layer3)\n",
    "\n",
    "    weights4 = tf.Variable(tf.truncated_normal(([120,84]),0,0.1))\n",
    "    bias4 = tf.Variable(tf.zeros(84))\n",
    "    layer4 = tf.add(tf.matmul(layer3,weights4),bias4)\n",
    "    \n",
    "    layer4 = tf.nn.relu(layer4)\n",
    "\n",
    "    weights = tf.Variable(tf.truncated_normal(([84,7]),0,0.1))\n",
    "    bias = tf.Variable(tf.zeros(7))\n",
    "    logits = tf.add(tf.matmul(layer4,weights),bias)\n",
    "    return logits"
   ]
  },
  {
   "cell_type": "code",
   "execution_count": 8,
   "metadata": {},
   "outputs": [],
   "source": [
    "X_train = np.reshape(X_train,[817,128,128,1])\n",
    "x_valid = np.reshape(x_valid,[72,128,128,1])\n",
    "x_test = np.reshape(x_test,[19,128,128,1])"
   ]
  },
  {
   "cell_type": "code",
   "execution_count": 10,
   "metadata": {},
   "outputs": [],
   "source": [
    "import tensorflow as tf\n",
    "\n",
    "EPOCHS = 15\n",
    "BATCH_SIZE = 16"
   ]
  },
  {
   "cell_type": "code",
   "execution_count": 11,
   "metadata": {},
   "outputs": [],
   "source": [
    "x = tf.placeholder(tf.float32, (None,128, 128, 1))\n",
    "y = tf.placeholder(tf.int32, (None))\n",
    "one_hot_y = tf.one_hot(y, 7)"
   ]
  },
  {
   "cell_type": "code",
   "execution_count": 12,
   "metadata": {},
   "outputs": [
    {
     "name": "stdout",
     "output_type": "stream",
     "text": [
      "WARNING:tensorflow:From <ipython-input-12-cc1927ca5975>:4: softmax_cross_entropy_with_logits (from tensorflow.python.ops.nn_ops) is deprecated and will be removed in a future version.\n",
      "Instructions for updating:\n",
      "\n",
      "Future major versions of TensorFlow will allow gradients to flow\n",
      "into the labels input on backprop by default.\n",
      "\n",
      "See @{tf.nn.softmax_cross_entropy_with_logits_v2}.\n",
      "\n"
     ]
    }
   ],
   "source": [
    "rate = 0.001\n",
    "\n",
    "logits = LeNet(x)\n",
    "cross_entropy = tf.nn.softmax_cross_entropy_with_logits(labels=one_hot_y, logits=logits)\n",
    "loss_operation = tf.reduce_mean(cross_entropy)\n",
    "optimizer = tf.train.AdamOptimizer(learning_rate = rate)\n",
    "training_operation = optimizer.minimize(loss_operation)"
   ]
  },
  {
   "cell_type": "code",
   "execution_count": 13,
   "metadata": {},
   "outputs": [],
   "source": [
    "correct_prediction = tf.equal(tf.argmax(logits, 1), tf.argmax(one_hot_y, 1))\n",
    "accuracy_operation = tf.reduce_mean(tf.cast(correct_prediction, tf.float32))\n",
    "saver = tf.train.Saver()\n",
    "\n",
    "def evaluate(X_data, y_data):\n",
    "    num_examples = len(X_data)\n",
    "    total_accuracy = 0\n",
    "    sess = tf.get_default_session()\n",
    "    for offset in range(0, num_examples, BATCH_SIZE):\n",
    "        batch_x, batch_y = X_data[offset:offset+BATCH_SIZE], y_data[offset:offset+BATCH_SIZE]\n",
    "        accuracy = sess.run(accuracy_operation, feed_dict={x: batch_x, y: batch_y})\n",
    "        total_accuracy += (accuracy * len(batch_x))\n",
    "    return total_accuracy / num_examples"
   ]
  },
  {
   "cell_type": "code",
   "execution_count": 15,
   "metadata": {},
   "outputs": [
    {
     "name": "stdout",
     "output_type": "stream",
     "text": [
      "Training...\n",
      "\n",
      "EPOCH 1 ...\n",
      "Validation Accuracy = 0.306\n",
      "Training Accuracy = 0.350\n",
      "\n",
      "EPOCH 2 ...\n",
      "Validation Accuracy = 0.375\n",
      "Training Accuracy = 0.448\n",
      "\n",
      "EPOCH 3 ...\n",
      "Validation Accuracy = 0.347\n",
      "Training Accuracy = 0.468\n",
      "\n",
      "EPOCH 4 ...\n",
      "Validation Accuracy = 0.431\n",
      "Training Accuracy = 0.561\n",
      "\n",
      "EPOCH 5 ...\n",
      "Validation Accuracy = 0.292\n",
      "Training Accuracy = 0.559\n",
      "\n",
      "EPOCH 6 ...\n",
      "Validation Accuracy = 0.431\n",
      "Training Accuracy = 0.755\n",
      "\n",
      "EPOCH 7 ...\n",
      "Validation Accuracy = 0.417\n",
      "Training Accuracy = 0.830\n",
      "\n",
      "EPOCH 8 ...\n",
      "Validation Accuracy = 0.375\n",
      "Training Accuracy = 0.880\n",
      "\n",
      "EPOCH 9 ...\n",
      "Validation Accuracy = 0.431\n",
      "Training Accuracy = 0.939\n",
      "\n",
      "EPOCH 10 ...\n",
      "Validation Accuracy = 0.403\n",
      "Training Accuracy = 0.969\n",
      "\n",
      "EPOCH 11 ...\n",
      "Validation Accuracy = 0.319\n",
      "Training Accuracy = 0.989\n",
      "\n",
      "EPOCH 12 ...\n",
      "Validation Accuracy = 0.347\n",
      "Training Accuracy = 0.994\n",
      "\n",
      "EPOCH 13 ...\n",
      "Validation Accuracy = 0.375\n",
      "Training Accuracy = 0.993\n",
      "\n",
      "EPOCH 14 ...\n",
      "Validation Accuracy = 0.361\n",
      "Training Accuracy = 0.994\n",
      "\n",
      "EPOCH 15 ...\n",
      "Validation Accuracy = 0.361\n",
      "Training Accuracy = 0.998\n",
      "\n",
      "Model saved\n"
     ]
    }
   ],
   "source": [
    "with tf.Session() as sess:\n",
    "\n",
    "    \n",
    "    sess.run(tf.global_variables_initializer())\n",
    "    #saver.restore(sess, tf.train.latest_checkpoint('.'))\n",
    "    num_examples = len(X_train)\n",
    "\n",
    "    \n",
    "    print(\"Training...\")\n",
    "    print()\n",
    "   \n",
    "    for i in range(EPOCHS):\n",
    "        X_train1, y_train1 = shuffle(X_train, y_train)\n",
    "        for offset in range(0, num_examples, BATCH_SIZE):\n",
    "            end = offset + BATCH_SIZE\n",
    "            batch_x, batch_y = X_train1[offset:end], y_train1[offset:end]\n",
    "            sess.run(training_operation, feed_dict={x: batch_x, y: batch_y,keep_prob:0.6})\n",
    "        X_valid1 , y_valid1 = shuffle(x_valid, y_valid)    \n",
    "        validation_accuracy = evaluate(X_valid1, y_valid1)\n",
    "        training_accuracy = evaluate(X_train1, y_train1)\n",
    "        print(\"EPOCH {} ...\".format(i+1))\n",
    "        print(\"Validation Accuracy = {:.3f}\".format(validation_accuracy))\n",
    "        print(\"Training Accuracy = {:.3f}\".format(training_accuracy))\n",
    "        print()\n",
    "        \n",
    "    saver.save(sess, './Deep pap')\n",
    "    print(\"Model saved\")"
   ]
  },
  {
   "cell_type": "code",
   "execution_count": 16,
   "metadata": {},
   "outputs": [
    {
     "name": "stdout",
     "output_type": "stream",
     "text": [
      "INFO:tensorflow:Restoring parameters from ./Deep pap\n",
      "Test Accuracy = 0.421\n"
     ]
    }
   ],
   "source": [
    "\n",
    "with tf.Session() as sess:\n",
    "    saver.restore(sess, tf.train.latest_checkpoint('.'))\n",
    "\n",
    "    test_accuracy = evaluate(x_test, y_test)\n",
    "    print(\"Test Accuracy = {:.3f}\".format(test_accuracy))"
   ]
  },
  {
   "cell_type": "code",
   "execution_count": 21,
   "metadata": {},
   "outputs": [
    {
     "name": "stdout",
     "output_type": "stream",
     "text": [
      "INFO:tensorflow:Restoring parameters from ./Deep pap\n",
      "[0 6]\n"
     ]
    }
   ],
   "source": [
    "images=[]\n",
    "image1 = img.imread('/home/janani/Documents/Deep learning  database/test1/20.jpg')\n",
    "image2 = img.imread('/home/janani/Documents/Deep learning  database/test7/95.jpg')\n",
    "\n",
    "image1 = cv2.resize(image1,(128,128),interpolation = cv2.INTER_CUBIC)\n",
    "\n",
    "images.append(image1)\n",
    "image2 = cv2.resize(image2,(128,128),interpolation = cv2.INTER_CUBIC)\n",
    "\n",
    "images.append(image2)\n",
    "\n",
    "image = []\n",
    "for i in images:\n",
    "    image1 = cv2.cvtColor(i,cv2.COLOR_RGB2GRAY)\n",
    "    image.append(image1)\n",
    "image = np.array(image)\n",
    "image = np.reshape(image,[2,128,128,1])\n",
    "\n",
    "image = (np.subtract((np.divide(image,255)),0.5))\n",
    "softmax = tf.nn.softmax(logits)\n",
    "argmax =  tf.argmax(softmax,axis=1)\n",
    " \n",
    "with tf.Session() as sess:\n",
    "    saver.restore(sess,tf.train.latest_checkpoint('.'))\n",
    "    label = np.array(sess.run(argmax,feed_dict={x:image,keep_prob:1}))\n",
    "print(label)\n",
    "\n"
   ]
  },
  {
   "cell_type": "code",
   "execution_count": null,
   "metadata": {
    "collapsed": true
   },
   "outputs": [],
   "source": []
  },
  {
   "cell_type": "code",
   "execution_count": null,
   "metadata": {},
   "outputs": [],
   "source": []
  },
  {
   "cell_type": "code",
   "execution_count": null,
   "metadata": {},
   "outputs": [],
   "source": []
  },
  {
   "cell_type": "code",
   "execution_count": null,
   "metadata": {},
   "outputs": [],
   "source": []
  }
 ],
 "metadata": {
  "kernelspec": {
   "display_name": "Python 3",
   "language": "python",
   "name": "python3"
  },
  "language_info": {
   "codemirror_mode": {
    "name": "ipython",
    "version": 3
   },
   "file_extension": ".py",
   "mimetype": "text/x-python",
   "name": "python",
   "nbconvert_exporter": "python",
   "pygments_lexer": "ipython3",
   "version": "3.6.6"
  }
 },
 "nbformat": 4,
 "nbformat_minor": 2
}
